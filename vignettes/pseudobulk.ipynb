{
 "cells": [
  {
   "cell_type": "markdown",
   "metadata": {},
   "source": [
    "This notebook implements an efficient version of pseudobulk nb-glm based differential expression analysis with DESeq2. Pseudobulk means that all reads from a single batch group (e.g. donor) get pooled into a single observation. \n",
    "\n",
    "In general, pseudobulk is statistically preferable to but much slower than Wilcoxon, especially when you need to consider covariates. A more robust but considerably slower alternative to pseudobulk is including donors as random effects. Random effects are preferable for small cell count groups but likely give similar results to pseudobulk estimates for large groups. \n",
    "\n",
    "This idea is not at all new. The earliest reference I know for is from Lun et al: \n",
    "https://genomebiology.biomedcentral.com/articles/10.1186/s13059-016-0947-7. \n",
    "\n",
    "\n",
    "A few implementation notes: \n",
    "\n",
    "1) To find markers most upregulated in a cluster, I divide samples into those in and out of the cluster. An alternative is to let each out group remain an independent pseudobulk sample. This is in fact the recommended way from Mike Love: https://support.bioconductor.org/p/118090/. While this is certainly faster than re-estimate size factors for each cluster-specific analysis, I find it gives strange results. Namely, I get more inflated p-values and significant p-values for the wrong canonical marker genes (e.g. CD14 for B cells).  \n",
    "\n",
    "2) On my laptop, it takes ~20 seconds to run do ~3000 genes from 2700 cells, 3 donors, 2 batches, and 9 cell types. "
   ]
  },
  {
   "cell_type": "markdown",
   "metadata": {},
   "source": [
    "# Load some data"
   ]
  },
  {
   "cell_type": "code",
   "execution_count": 6,
   "metadata": {},
   "outputs": [
    {
     "name": "stderr",
     "output_type": "stream",
     "text": [
      "\u001b[36mℹ\u001b[39m Loading \u001b[34m\u001b[34mpresto\u001b[34m\u001b[39m\n",
      "\n"
     ]
    }
   ],
   "source": [
    "devtools::load_all('..')"
   ]
  },
  {
   "cell_type": "code",
   "execution_count": 7,
   "metadata": {},
   "outputs": [],
   "source": [
    "suppressPackageStartupMessages({\n",
    "    library(tidyverse)\n",
    "#     library(presto)\n",
    "    library(singlecellmethods)\n",
    "    library(SeuratData)\n",
    "    library(Seurat)\n",
    "    library(DESeq2)    \n",
    "})\n",
    "\n",
    "fig.size <- function (h, w) \n",
    "{\n",
    "    options(repr.plot.height = h, repr.plot.width = w)\n",
    "}"
   ]
  },
  {
   "cell_type": "markdown",
   "metadata": {},
   "source": [
    "Load small dataset for exposition"
   ]
  },
  {
   "cell_type": "code",
   "execution_count": 8,
   "metadata": {},
   "outputs": [],
   "source": [
    "if (!SeuratData::AvailableData()['pbmc3k.SeuratData', 'Installed']) {\n",
    "    SeuratData::InstallData(\"pbmc3k\")\n",
    "}\n",
    "data(\"pbmc3k\")"
   ]
  },
  {
   "cell_type": "markdown",
   "metadata": {},
   "source": [
    "Add fake donor and batch columns"
   ]
  },
  {
   "cell_type": "code",
   "execution_count": 9,
   "metadata": {},
   "outputs": [],
   "source": [
    "pbmc3k@meta.data$donor <- factor(sample(LETTERS[1:3], ncol(pbmc3k), TRUE))\n",
    "pbmc3k@meta.data$batch <- factor(sample(LETTERS[1:2], ncol(pbmc3k), TRUE))"
   ]
  },
  {
   "cell_type": "code",
   "execution_count": 10,
   "metadata": {},
   "outputs": [
    {
     "data": {
      "text/html": [
       "<table>\n",
       "<caption>A data.frame: 6 × 6</caption>\n",
       "<thead>\n",
       "\t<tr><th></th><th scope=col>orig.ident</th><th scope=col>nCount_RNA</th><th scope=col>nFeature_RNA</th><th scope=col>seurat_annotations</th><th scope=col>donor</th><th scope=col>batch</th></tr>\n",
       "\t<tr><th></th><th scope=col>&lt;fct&gt;</th><th scope=col>&lt;dbl&gt;</th><th scope=col>&lt;int&gt;</th><th scope=col>&lt;fct&gt;</th><th scope=col>&lt;fct&gt;</th><th scope=col>&lt;fct&gt;</th></tr>\n",
       "</thead>\n",
       "<tbody>\n",
       "\t<tr><th scope=row>AAACATACAACCAC</th><td>pbmc3k</td><td>2419</td><td> 779</td><td>Memory CD4 T</td><td>A</td><td>B</td></tr>\n",
       "\t<tr><th scope=row>AAACATTGAGCTAC</th><td>pbmc3k</td><td>4903</td><td>1352</td><td>B           </td><td>A</td><td>B</td></tr>\n",
       "\t<tr><th scope=row>AAACATTGATCAGC</th><td>pbmc3k</td><td>3147</td><td>1129</td><td>Memory CD4 T</td><td>A</td><td>A</td></tr>\n",
       "\t<tr><th scope=row>AAACCGTGCTTCCG</th><td>pbmc3k</td><td>2639</td><td> 960</td><td>CD14+ Mono  </td><td>A</td><td>B</td></tr>\n",
       "\t<tr><th scope=row>AAACCGTGTATGCG</th><td>pbmc3k</td><td> 980</td><td> 521</td><td>NK          </td><td>A</td><td>B</td></tr>\n",
       "\t<tr><th scope=row>AAACGCACTGGTAC</th><td>pbmc3k</td><td>2163</td><td> 781</td><td>Memory CD4 T</td><td>B</td><td>A</td></tr>\n",
       "</tbody>\n",
       "</table>\n"
      ],
      "text/latex": [
       "A data.frame: 6 × 6\n",
       "\\begin{tabular}{r|llllll}\n",
       "  & orig.ident & nCount\\_RNA & nFeature\\_RNA & seurat\\_annotations & donor & batch\\\\\n",
       "  & <fct> & <dbl> & <int> & <fct> & <fct> & <fct>\\\\\n",
       "\\hline\n",
       "\tAAACATACAACCAC & pbmc3k & 2419 &  779 & Memory CD4 T & A & B\\\\\n",
       "\tAAACATTGAGCTAC & pbmc3k & 4903 & 1352 & B            & A & B\\\\\n",
       "\tAAACATTGATCAGC & pbmc3k & 3147 & 1129 & Memory CD4 T & A & A\\\\\n",
       "\tAAACCGTGCTTCCG & pbmc3k & 2639 &  960 & CD14+ Mono   & A & B\\\\\n",
       "\tAAACCGTGTATGCG & pbmc3k &  980 &  521 & NK           & A & B\\\\\n",
       "\tAAACGCACTGGTAC & pbmc3k & 2163 &  781 & Memory CD4 T & B & A\\\\\n",
       "\\end{tabular}\n"
      ],
      "text/markdown": [
       "\n",
       "A data.frame: 6 × 6\n",
       "\n",
       "| <!--/--> | orig.ident &lt;fct&gt; | nCount_RNA &lt;dbl&gt; | nFeature_RNA &lt;int&gt; | seurat_annotations &lt;fct&gt; | donor &lt;fct&gt; | batch &lt;fct&gt; |\n",
       "|---|---|---|---|---|---|---|\n",
       "| AAACATACAACCAC | pbmc3k | 2419 |  779 | Memory CD4 T | A | B |\n",
       "| AAACATTGAGCTAC | pbmc3k | 4903 | 1352 | B            | A | B |\n",
       "| AAACATTGATCAGC | pbmc3k | 3147 | 1129 | Memory CD4 T | A | A |\n",
       "| AAACCGTGCTTCCG | pbmc3k | 2639 |  960 | CD14+ Mono   | A | B |\n",
       "| AAACCGTGTATGCG | pbmc3k |  980 |  521 | NK           | A | B |\n",
       "| AAACGCACTGGTAC | pbmc3k | 2163 |  781 | Memory CD4 T | B | A |\n",
       "\n"
      ],
      "text/plain": [
       "               orig.ident nCount_RNA nFeature_RNA seurat_annotations donor\n",
       "AAACATACAACCAC pbmc3k     2419        779         Memory CD4 T       A    \n",
       "AAACATTGAGCTAC pbmc3k     4903       1352         B                  A    \n",
       "AAACATTGATCAGC pbmc3k     3147       1129         Memory CD4 T       A    \n",
       "AAACCGTGCTTCCG pbmc3k     2639        960         CD14+ Mono         A    \n",
       "AAACCGTGTATGCG pbmc3k      980        521         NK                 A    \n",
       "AAACGCACTGGTAC pbmc3k     2163        781         Memory CD4 T       B    \n",
       "               batch\n",
       "AAACATACAACCAC B    \n",
       "AAACATTGAGCTAC B    \n",
       "AAACATTGATCAGC A    \n",
       "AAACCGTGCTTCCG B    \n",
       "AAACCGTGTATGCG B    \n",
       "AAACGCACTGGTAC A    "
      ]
     },
     "metadata": {},
     "output_type": "display_data"
    }
   ],
   "source": [
    "head(pbmc3k@meta.data)"
   ]
  },
  {
   "cell_type": "markdown",
   "metadata": {},
   "source": [
    "# Test "
   ]
  },
  {
   "cell_type": "markdown",
   "metadata": {},
   "source": [
    "## Collapse to pseudobulk"
   ]
  },
  {
   "cell_type": "code",
   "execution_count": 11,
   "metadata": {},
   "outputs": [
    {
     "name": "stderr",
     "output_type": "stream",
     "text": [
      "CAREFUL: get_norm makes very strong assumptions about data\n",
      "\n"
     ]
    },
    {
     "data": {
      "text/html": [
       "<table>\n",
       "<caption>A data.frame: 6 × 5</caption>\n",
       "<thead>\n",
       "\t<tr><th></th><th scope=col>seurat_annotations</th><th scope=col>donor</th><th scope=col>batch</th><th scope=col>N</th><th scope=col>logUMI</th></tr>\n",
       "\t<tr><th></th><th scope=col>&lt;fct&gt;</th><th scope=col>&lt;fct&gt;</th><th scope=col>&lt;fct&gt;</th><th scope=col>&lt;int&gt;</th><th scope=col>&lt;dbl&gt;</th></tr>\n",
       "</thead>\n",
       "<tbody>\n",
       "\t<tr><th scope=row>sample_28</th><td>Memory CD4 T</td><td>A</td><td>B</td><td>88</td><td>12.36016</td></tr>\n",
       "\t<tr><th scope=row>sample_30</th><td>B           </td><td>A</td><td>B</td><td>56</td><td>11.67743</td></tr>\n",
       "\t<tr><th scope=row>sample_1</th><td>Memory CD4 T</td><td>A</td><td>A</td><td>83</td><td>12.35118</td></tr>\n",
       "\t<tr><th scope=row>sample_29</th><td>CD14+ Mono  </td><td>A</td><td>B</td><td>82</td><td>12.23536</td></tr>\n",
       "\t<tr><th scope=row>sample_33</th><td>NK          </td><td>A</td><td>B</td><td>33</td><td>11.09052</td></tr>\n",
       "\t<tr><th scope=row>sample_10</th><td>Memory CD4 T</td><td>B</td><td>A</td><td>90</td><td>12.39591</td></tr>\n",
       "</tbody>\n",
       "</table>\n"
      ],
      "text/latex": [
       "A data.frame: 6 × 5\n",
       "\\begin{tabular}{r|lllll}\n",
       "  & seurat\\_annotations & donor & batch & N & logUMI\\\\\n",
       "  & <fct> & <fct> & <fct> & <int> & <dbl>\\\\\n",
       "\\hline\n",
       "\tsample\\_28 & Memory CD4 T & A & B & 88 & 12.36016\\\\\n",
       "\tsample\\_30 & B            & A & B & 56 & 11.67743\\\\\n",
       "\tsample\\_1 & Memory CD4 T & A & A & 83 & 12.35118\\\\\n",
       "\tsample\\_29 & CD14+ Mono   & A & B & 82 & 12.23536\\\\\n",
       "\tsample\\_33 & NK           & A & B & 33 & 11.09052\\\\\n",
       "\tsample\\_10 & Memory CD4 T & B & A & 90 & 12.39591\\\\\n",
       "\\end{tabular}\n"
      ],
      "text/markdown": [
       "\n",
       "A data.frame: 6 × 5\n",
       "\n",
       "| <!--/--> | seurat_annotations &lt;fct&gt; | donor &lt;fct&gt; | batch &lt;fct&gt; | N &lt;int&gt; | logUMI &lt;dbl&gt; |\n",
       "|---|---|---|---|---|---|\n",
       "| sample_28 | Memory CD4 T | A | B | 88 | 12.36016 |\n",
       "| sample_30 | B            | A | B | 56 | 11.67743 |\n",
       "| sample_1 | Memory CD4 T | A | A | 83 | 12.35118 |\n",
       "| sample_29 | CD14+ Mono   | A | B | 82 | 12.23536 |\n",
       "| sample_33 | NK           | A | B | 33 | 11.09052 |\n",
       "| sample_10 | Memory CD4 T | B | A | 90 | 12.39591 |\n",
       "\n"
      ],
      "text/plain": [
       "          seurat_annotations donor batch N  logUMI  \n",
       "sample_28 Memory CD4 T       A     B     88 12.36016\n",
       "sample_30 B                  A     B     56 11.67743\n",
       "sample_1  Memory CD4 T       A     A     83 12.35118\n",
       "sample_29 CD14+ Mono         A     B     82 12.23536\n",
       "sample_33 NK                 A     B     33 11.09052\n",
       "sample_10 Memory CD4 T       B     A     90 12.39591"
      ]
     },
     "metadata": {},
     "output_type": "display_data"
    }
   ],
   "source": [
    "data_collapsed <- collapse_counts(pbmc3k@assays$RNA@counts, \n",
    "                                  pbmc3k@meta.data, \n",
    "                                  c('seurat_annotations', 'donor', 'batch'))\n",
    "head(data_collapsed$meta_data)"
   ]
  },
  {
   "cell_type": "markdown",
   "metadata": {},
   "source": [
    "## Do DESeq2"
   ]
  },
  {
   "cell_type": "code",
   "execution_count": 12,
   "metadata": {},
   "outputs": [
    {
     "ename": "ERROR",
     "evalue": "Error in pseudobulk_deseq2(~seurat_annotations + donor + batch, data_collapsed$meta_data, : could not find function \"pseudobulk_deseq2\"\n",
     "output_type": "error",
     "traceback": [
      "Error in pseudobulk_deseq2(~seurat_annotations + donor + batch, data_collapsed$meta_data, : could not find function \"pseudobulk_deseq2\"\nTraceback:\n"
     ]
    }
   ],
   "source": [
    "res_mat <- pseudobulk_deseq2(~seurat_annotations + donor + batch, \n",
    "                             data_collapsed$meta_data,\n",
    "                             data_collapsed$counts_mat, verbose = TRUE)\n"
   ]
  },
  {
   "cell_type": "code",
   "execution_count": null,
   "metadata": {},
   "outputs": [],
   "source": [
    "head(res_mat)"
   ]
  },
  {
   "cell_type": "code",
   "execution_count": null,
   "metadata": {},
   "outputs": [],
   "source": [
    "top_markers_dds(res_mat, lfc_min = 1, padj_max = .05)"
   ]
  },
  {
   "cell_type": "markdown",
   "metadata": {},
   "source": [
    "## Volcano plots"
   ]
  },
  {
   "cell_type": "code",
   "execution_count": null,
   "metadata": {},
   "outputs": [],
   "source": [
    "options(repr.plot.height = 6, repr.plot.width = 8)\n",
    "res_mat %>% \n",
    "    ggplot(aes(log2FoldChange, -log10(pvalue), color = padj < .01 & abs(log2FoldChange) > 1)) + \n",
    "        geom_point(shape = 21) + \n",
    "        facet_wrap(~group, scales = 'free') + \n",
    "        guides(color = FALSE) + \n",
    "        NULL"
   ]
  },
  {
   "cell_type": "markdown",
   "metadata": {},
   "source": [
    "# Comparison to Wilcoxon\n",
    "\n",
    "In this artificial example, donor and batch are fictitious, so DESeq2's GLM $\\beta$ estimates should not be that different from the Wilcoxon estimates. Here, we'll compare $\\beta$s to auROC, which is essentially equivalent to the Wilxocon statistic. "
   ]
  },
  {
   "cell_type": "code",
   "execution_count": null,
   "metadata": {},
   "outputs": [],
   "source": [
    "## Wilcoxon on CP10K normalized counts \n",
    "exprs_norm <- singlecellmethods::normalizeData(pbmc3k@assays$RNA@counts, scaling_factor = 1e4, method = 'log')\n",
    "dge_wilxocon <- wilcoxauc(exprs_norm, factor(pbmc3k@meta.data$seurat_annotations))\n"
   ]
  },
  {
   "cell_type": "code",
   "execution_count": null,
   "metadata": {},
   "outputs": [],
   "source": [
    "head(dge_wilxocon)"
   ]
  },
  {
   "cell_type": "code",
   "execution_count": null,
   "metadata": {},
   "outputs": [],
   "source": [
    "options(repr.plot.height = 6, repr.plot.width = 8)\n",
    "dplyr::inner_join(dge_wilxocon, res_mat, by = c('feature', 'group')) %>% \n",
    "    ggplot(aes(auc, stat)) + \n",
    "        geom_point(shape = '.') + \n",
    "        facet_wrap(~group, scales = 'free') + \n",
    "        geom_vline(xintercept = .5) + \n",
    "        geom_hline(yintercept = 0) + \n",
    "        labs(x = 'AUC', y = 'GLM beta') + \n",
    "        NULL"
   ]
  },
  {
   "cell_type": "markdown",
   "metadata": {},
   "source": [
    "Most of the results agree, more or less. Interestingly, the Wilcoxon labels almost all genes as upregulated in DCs and CD16+ Monocytes and downregulated in Platelets. What's going on here? It turns out that DCs and CD16+ Monos are mRNA rich cells while platelets are mRNA poor cells overall. DESeq2 is able to account for this effect better than CP10K normalization. \n"
   ]
  },
  {
   "cell_type": "code",
   "execution_count": null,
   "metadata": {},
   "outputs": [],
   "source": [
    "options(repr.plot.height = 3, repr.plot.width = 5)\n",
    "pbmc3k@meta.data %>% \n",
    "    subset(!is.na(seurat_annotations)) %>% \n",
    "    ggplot(aes(reorder(seurat_annotations, nCount_RNA), nCount_RNA)) + \n",
    "        geom_boxplot(outlier.shape = NA) + \n",
    "        geom_jitter(shape = '.', height = 0) + \n",
    "        coord_flip() + \n",
    "        labs(x = '') + \n",
    "        NULL"
   ]
  },
  {
   "cell_type": "markdown",
   "metadata": {},
   "source": [
    "# Pairwise tests"
   ]
  },
  {
   "cell_type": "markdown",
   "metadata": {},
   "source": [
    "Instead of 1-vs-all, let's do pairwise test and then summarize statistics conservatively. "
   ]
  },
  {
   "cell_type": "code",
   "execution_count": null,
   "metadata": {},
   "outputs": [],
   "source": [
    "data_collapsed <- collapse_counts(pbmc3k@assays$RNA@counts, \n",
    "                                  pbmc3k@meta.data, \n",
    "                                  c('seurat_annotations', 'donor', 'batch'))\n",
    "head(data_collapsed$meta_data)"
   ]
  },
  {
   "cell_type": "markdown",
   "metadata": {},
   "source": [
    "BUG: when testing all vs all pairwise, crashes"
   ]
  },
  {
   "cell_type": "code",
   "execution_count": null,
   "metadata": {},
   "outputs": [],
   "source": [
    "# table(data_collapsed$meta_data$seurat_annotations)"
   ]
  },
  {
   "cell_type": "code",
   "execution_count": null,
   "metadata": {},
   "outputs": [],
   "source": [
    "res_pair <- pseudobulk_deseq2(~seurat_annotations + donor + batch, \n",
    "                             data_collapsed$meta_data,\n",
    "                             data_collapsed$counts_mat, verbose = TRUE, mode = 'pairwise')#, vals_test = c('B', 'NK'))\n"
   ]
  },
  {
   "cell_type": "code",
   "execution_count": null,
   "metadata": {},
   "outputs": [],
   "source": [
    "res_min <- summarize_dge_pairs(res_pair, 'min')\n",
    "# res_max <- summarize_dge_pairs(res_pair, 'max')"
   ]
  },
  {
   "cell_type": "code",
   "execution_count": null,
   "metadata": {},
   "outputs": [],
   "source": [
    "## Compare to other modes"
   ]
  },
  {
   "cell_type": "code",
   "execution_count": null,
   "metadata": {},
   "outputs": [],
   "source": [
    "dge <- Reduce(rbind, list(\n",
    "    dplyr::mutate(dge_pairs_min, mode = 'Pairs_min'), \n",
    "    dplyr::mutate(dge_pairs_max, mode = 'Pairs_max'), \n",
    "    dplyr::mutate(dge_1va_col, mode = 'Onevall_collapse'), \n",
    "    dplyr::mutate(dge_1va_no, mode = 'Onevall_no')\n",
    "    )) "
   ]
  },
  {
   "cell_type": "code",
   "execution_count": null,
   "metadata": {},
   "outputs": [],
   "source": [
    "plt_df <- dge %>% \n",
    "    dplyr::select(feature, log2FoldChange, mode) %>% \n",
    "    spread(mode, log2FoldChange)\n",
    "\n",
    "plt_df <- plt_df[(rowSums(is.na(plt_df)) == 0), ]"
   ]
  },
  {
   "cell_type": "code",
   "execution_count": null,
   "metadata": {},
   "outputs": [],
   "source": [
    "library(ggforce)\n",
    "fig.size(6, 8)\n",
    "plt_df %>% \n",
    "    ggplot(aes(x = .panel_x, y = .panel_y)) + \n",
    "        geom_point(shape = '.') + \n",
    "        geom_autodensity(alpha = 0.3, position = 'identity') + \n",
    "#         geom_autodensity(position = 'identity') + \n",
    "        facet_matrix(\n",
    "            vars(Pairs_min, Pairs_max, Onevall_collapse, Onevall_no), \n",
    "            layer.diag = 2\n",
    "        ) + \n",
    "        geom_vline(aes(xintercept = 0), linetype = 2) + \n",
    "        geom_hline(aes(yintercept = 0), linetype = 2) + \n",
    "        geom_abline(aes(slope = 1, intercept = 0)) + \n",
    "        NULL"
   ]
  },
  {
   "cell_type": "code",
   "execution_count": null,
   "metadata": {},
   "outputs": [],
   "source": [
    "dge_pairs_min %>% \n",
    "    subset(stat > 0) %>% \n",
    "    dplyr::arrange(-stat) %>% \n",
    "    head()"
   ]
  },
  {
   "cell_type": "code",
   "execution_count": null,
   "metadata": {},
   "outputs": [],
   "source": [
    "dge_pairs_max %>% \n",
    "    subset(stat > 0) %>% \n",
    "    dplyr::arrange(-stat) %>% \n",
    "    head()"
   ]
  },
  {
   "cell_type": "markdown",
   "metadata": {},
   "source": [
    "# Test within clusters "
   ]
  },
  {
   "cell_type": "code",
   "execution_count": null,
   "metadata": {},
   "outputs": [],
   "source": [
    "if (!SeuratData::AvailableData()['ifnb.SeuratData', 'Installed']) {\n",
    "    SeuratData::InstallData(\"ifnb\")\n",
    "}\n",
    "data(\"ifnb\")\n",
    "\n",
    "## randomly assign donors\n",
    "ifnb@meta.data$donor <- factor(sample(LETTERS[1:3], ncol(ifnb), TRUE))"
   ]
  },
  {
   "cell_type": "code",
   "execution_count": null,
   "metadata": {},
   "outputs": [],
   "source": [
    "head(ifnb@meta.data)"
   ]
  },
  {
   "cell_type": "code",
   "execution_count": null,
   "metadata": {},
   "outputs": [],
   "source": [
    "data_collapsed <- collapse_counts(ifnb@assays$RNA@counts, \n",
    "                                  ifnb@meta.data, \n",
    "                                  c('seurat_annotations', 'stim', 'donor'), \n",
    "                                     keep_n = TRUE)\n",
    "head(data_collapsed$meta_data)"
   ]
  },
  {
   "cell_type": "code",
   "execution_count": null,
   "metadata": {},
   "outputs": [],
   "source": [
    "data.table(data_collapsed$meta_data)[, sum(N), by = .(stim, seurat_annotations)] %>% \n",
    "    tidyr::spread(seurat_annotations, V1)"
   ]
  },
  {
   "cell_type": "code",
   "execution_count": null,
   "metadata": {},
   "outputs": [],
   "source": [
    "res_mat <- pseudobulk_deseq2(~seurat_annotations + stim, \n",
    "                             data_collapsed$meta_data,\n",
    "                             data_collapsed$counts_mat, \n",
    "                             verbose = TRUE, \n",
    "                             vals_test = c('pDC', 'B'),\n",
    "                             mode = 'within')\n"
   ]
  },
  {
   "cell_type": "code",
   "execution_count": null,
   "metadata": {},
   "outputs": [],
   "source": [
    "fig.size(2.5, 5)\n",
    "data.table(res_mat)[, sum(padj < .01, na.rm = TRUE) / .N, by = group][order(-V1)] %>% \n",
    "    dplyr::inner_join(\n",
    "        data.table(data_collapsed$meta_data)[, .(ncells = sum(N)), by = seurat_annotations],\n",
    "        by = c('group' = 'seurat_annotations')\n",
    "    ) %>% \n",
    "    ggplot(aes(100 * V1, ncells)) + \n",
    "        geom_point(shape = 21) + \n",
    "        scale_y_log10() + \n",
    "        geom_smooth(method = 'lm', se = FALSE) + \n",
    "        geom_label(aes(label = group), data = . %>% subset(V1 > .2)) + \n",
    "        NULL"
   ]
  },
  {
   "cell_type": "code",
   "execution_count": null,
   "metadata": {},
   "outputs": [],
   "source": [
    "devtools::install_github('immunogenomics/presto')"
   ]
  },
  {
   "cell_type": "code",
   "execution_count": null,
   "metadata": {},
   "outputs": [],
   "source": [
    "# devtools::document('..')"
   ]
  },
  {
   "cell_type": "markdown",
   "metadata": {
    "tags": [],
    "toc-hr-collapsed": true
   },
   "source": [
    "# Aggregate results faster \n",
    "\n",
    "This step should be super fast. The bottleneck is fitting models with lme4, not the rest of it. \n"
   ]
  },
  {
   "cell_type": "code",
   "execution_count": 181,
   "metadata": {},
   "outputs": [
    {
     "name": "stderr",
     "output_type": "stream",
     "text": [
      "CAREFUL: get_norm makes very strong assumptions about data\n",
      "\n"
     ]
    },
    {
     "data": {
      "text/html": [
       "<table>\n",
       "<caption>A data.frame: 6 × 5</caption>\n",
       "<thead>\n",
       "\t<tr><th></th><th scope=col>seurat_annotations</th><th scope=col>donor</th><th scope=col>batch</th><th scope=col>N</th><th scope=col>logUMI</th></tr>\n",
       "\t<tr><th></th><th scope=col>&lt;fct&gt;</th><th scope=col>&lt;fct&gt;</th><th scope=col>&lt;fct&gt;</th><th scope=col>&lt;int&gt;</th><th scope=col>&lt;dbl&gt;</th></tr>\n",
       "</thead>\n",
       "<tbody>\n",
       "\t<tr><th scope=row>sample_28</th><td>Memory CD4 T</td><td>A</td><td>B</td><td>88</td><td>12.36016</td></tr>\n",
       "\t<tr><th scope=row>sample_30</th><td>B           </td><td>A</td><td>B</td><td>56</td><td>11.67743</td></tr>\n",
       "\t<tr><th scope=row>sample_1</th><td>Memory CD4 T</td><td>A</td><td>A</td><td>83</td><td>12.35118</td></tr>\n",
       "\t<tr><th scope=row>sample_29</th><td>CD14+ Mono  </td><td>A</td><td>B</td><td>82</td><td>12.23536</td></tr>\n",
       "\t<tr><th scope=row>sample_33</th><td>NK          </td><td>A</td><td>B</td><td>33</td><td>11.09052</td></tr>\n",
       "\t<tr><th scope=row>sample_10</th><td>Memory CD4 T</td><td>B</td><td>A</td><td>90</td><td>12.39591</td></tr>\n",
       "</tbody>\n",
       "</table>\n"
      ],
      "text/latex": [
       "A data.frame: 6 × 5\n",
       "\\begin{tabular}{r|lllll}\n",
       "  & seurat\\_annotations & donor & batch & N & logUMI\\\\\n",
       "  & <fct> & <fct> & <fct> & <int> & <dbl>\\\\\n",
       "\\hline\n",
       "\tsample\\_28 & Memory CD4 T & A & B & 88 & 12.36016\\\\\n",
       "\tsample\\_30 & B            & A & B & 56 & 11.67743\\\\\n",
       "\tsample\\_1 & Memory CD4 T & A & A & 83 & 12.35118\\\\\n",
       "\tsample\\_29 & CD14+ Mono   & A & B & 82 & 12.23536\\\\\n",
       "\tsample\\_33 & NK           & A & B & 33 & 11.09052\\\\\n",
       "\tsample\\_10 & Memory CD4 T & B & A & 90 & 12.39591\\\\\n",
       "\\end{tabular}\n"
      ],
      "text/markdown": [
       "\n",
       "A data.frame: 6 × 5\n",
       "\n",
       "| <!--/--> | seurat_annotations &lt;fct&gt; | donor &lt;fct&gt; | batch &lt;fct&gt; | N &lt;int&gt; | logUMI &lt;dbl&gt; |\n",
       "|---|---|---|---|---|---|\n",
       "| sample_28 | Memory CD4 T | A | B | 88 | 12.36016 |\n",
       "| sample_30 | B            | A | B | 56 | 11.67743 |\n",
       "| sample_1 | Memory CD4 T | A | A | 83 | 12.35118 |\n",
       "| sample_29 | CD14+ Mono   | A | B | 82 | 12.23536 |\n",
       "| sample_33 | NK           | A | B | 33 | 11.09052 |\n",
       "| sample_10 | Memory CD4 T | B | A | 90 | 12.39591 |\n",
       "\n"
      ],
      "text/plain": [
       "          seurat_annotations donor batch N  logUMI  \n",
       "sample_28 Memory CD4 T       A     B     88 12.36016\n",
       "sample_30 B                  A     B     56 11.67743\n",
       "sample_1  Memory CD4 T       A     A     83 12.35118\n",
       "sample_29 CD14+ Mono         A     B     82 12.23536\n",
       "sample_33 NK                 A     B     33 11.09052\n",
       "sample_10 Memory CD4 T       B     A     90 12.39591"
      ]
     },
     "metadata": {},
     "output_type": "display_data"
    }
   ],
   "source": [
    "data_collapsed <- collapse_counts(pbmc3k@assays$RNA@counts, \n",
    "                                  pbmc3k@meta.data, \n",
    "                                  c('seurat_annotations', 'donor', 'batch'))\n",
    "head(data_collapsed$meta_data)"
   ]
  },
  {
   "cell_type": "code",
   "execution_count": 185,
   "metadata": {},
   "outputs": [],
   "source": [
    "formula=y~1+(1|seurat_annotations)+(1|batch)\n",
    "design=pbmc3k@meta.data\n",
    "response=pbmc3k@assays$RNA@counts\n",
    "size_varname='logUMI'\n",
    "features=sample(rownames(pbmc3k@assays$RNA@counts), 200)\n",
    "# features=rownames(pbmc3k@assays$RNA@counts)\n",
    "effects_cov=c('seurat_annotations')\n",
    "ncore=20\n",
    "nsim=1e3\n",
    "family='poisson'\n",
    "min_sigma=0\n",
    "verbose=0L"
   ]
  },
  {
   "cell_type": "code",
   "execution_count": 186,
   "metadata": {},
   "outputs": [],
   "source": [
    "library(lme4)"
   ]
  },
  {
   "cell_type": "code",
   "execution_count": null,
   "metadata": {},
   "outputs": [],
   "source": [
    "    ## To make downstream things easier, give exposure variable a dedicated name \n",
    "    ## TODO: check that SIZE is valid exposure type variable \n",
    "    design$EXPOSURE <- design[[size_varname]]\n",
    "    fstr <- gsub(size_varname, 'EXPOSURE', as.character(formula))\n",
    "    formula <- as.formula(sprintf('%s~%s', fstr[[2]], fstr[[3]]), env=.GlobalEnv)\n",
    "\n",
    "    if (verbose > 0) {\n",
    "        message('Set up models')\n",
    "    }\n",
    "    \n",
    "    ## fit an initial model just to get the names\n",
    "    model_base <- fit_model.presto(formula, design, response[features[[1]], ], family)\n",
    "    priornames_df <- as.data.frame(VarCorr(model_base))[, 1:3]\n",
    "    if (isGLMM(model_base)) {\n",
    "        ## glmer does not include residuals in VarCorr, lmer does\n",
    "        priornames_df <- rbind(priornames_df, tibble(grp = 'Residual', var1 = NA, var2 = NA))\n",
    "    }\n",
    "\n",
    "    has_offset <- !all(map_lgl(model_base@resp$offset, identical, 0))\n",
    "    betanames_df <- make_betanames_df(model_base, has_offset)\n",
    "    \n",
    "    ## set up parallel machinery \n",
    "    features <- intersect(features, rownames(response))\n",
    "    if (ncore == 1) {\n",
    "        future::plan(sequential)\n",
    "    } else if (ncore %in% c(0, Inf)) {\n",
    "        ncore <- availableCores()\n",
    "        future::plan(multiprocess)\n",
    "    } else {\n",
    "        ## ncore weirdly not recognized by future\n",
    "        .ncore <<- ncore\n",
    "        future::plan(future::multiprocess(workers = .ncore))\n",
    "        rm(.ncore)\n",
    "    }\n",
    "    \n",
    "    if (verbose > 0) {\n",
    "        message('Learn the models')\n",
    "    }\n",
    "    \n",
    "    lres <- furrr::future_map(features, glmm_uni, formula, design, response, effects_cov, family, nsim, has_offset, min_sigma)\n",
    "    names(lres) <- features\n",
    "    lres <- lres[which(purrr::map_lgl(as.integer(map_int(lres, 'status')), identical, 0L))]\n",
    "\n"
   ]
  },
  {
   "cell_type": "markdown",
   "metadata": {},
   "source": [
    "## Original"
   ]
  },
  {
   "cell_type": "code",
   "execution_count": 188,
   "metadata": {},
   "outputs": [
    {
     "data": {
      "text/plain": [
       "   user  system elapsed \n",
       "  0.116   0.002   0.117 "
      ]
     },
     "metadata": {},
     "output_type": "display_data"
    }
   ],
   "source": [
    "system.time({\n",
    "    common_el <- purrr::reduce(map(lres, names), intersect) %>% setdiff('status')\n",
    "    res <- map(common_el, function(name) {\n",
    "        if (name == 'covmat') {\n",
    "            purrr::reduce(purrr::map(lres, name), abind::abind, along = 3)\n",
    "        } else {\n",
    "            as.matrix(purrr::map_dfr(lres, name))            \n",
    "        }\n",
    "    })\n",
    "    names(res) <- common_el\n",
    "})\n"
   ]
  },
  {
   "cell_type": "markdown",
   "metadata": {},
   "source": [
    "## Faster"
   ]
  },
  {
   "cell_type": "code",
   "execution_count": 130,
   "metadata": {
    "tags": []
   },
   "outputs": [
    {
     "data": {
      "text/plain": [
       "   user  system elapsed \n",
       "  0.036   0.000   0.036 "
      ]
     },
     "metadata": {},
     "output_type": "display_data"
    },
    {
     "data": {
      "text/plain": [
       "   user  system elapsed \n",
       "  0.001   0.000   0.001 "
      ]
     },
     "metadata": {},
     "output_type": "display_data"
    },
    {
     "data": {
      "text/html": [
       "0"
      ],
      "text/latex": [
       "0"
      ],
      "text/markdown": [
       "0"
      ],
      "text/plain": [
       "[1] 0"
      ]
     },
     "metadata": {},
     "output_type": "display_data"
    }
   ],
   "source": [
    "sourceCpp('../src/utils.cpp')\n",
    "\n",
    "covmat_list <- purrr::map(lres, 'covmat')\n",
    "\n",
    "system.time({\n",
    "    x <- purrr::reduce(covmat_list, abind::abind, along = 3)    \n",
    "})\n",
    "\n",
    "system.time({\n",
    "    y <- collapse_mats(covmat_list, length(covmat_list))\n",
    "    dnames <- dimnames(covmat_list[[1]])\n",
    "    dnames[[3]] <- names(covmat_list)\n",
    "    dimnames(y) <- dnames\n",
    "})\n",
    "\n",
    "max(abs(x - y))"
   ]
  },
  {
   "cell_type": "code",
   "execution_count": 164,
   "metadata": {},
   "outputs": [
    {
     "data": {
      "text/plain": [
       "   user  system elapsed \n",
       "  0.024   0.000   0.024 "
      ]
     },
     "metadata": {},
     "output_type": "display_data"
    },
    {
     "data": {
      "text/plain": [
       "   user  system elapsed \n",
       "  0.007   0.000   0.006 "
      ]
     },
     "metadata": {},
     "output_type": "display_data"
    },
    {
     "data": {
      "text/html": [
       "0"
      ],
      "text/latex": [
       "0"
      ],
      "text/markdown": [
       "0"
      ],
      "text/plain": [
       "[1] 0"
      ]
     },
     "metadata": {},
     "output_type": "display_data"
    }
   ],
   "source": [
    "sourceCpp('../src/utils.cpp')\n",
    "\n",
    "beta_list <- purrr::map(lres, 'beta')\n",
    "system.time({\n",
    "    for (i in 1:10) {\n",
    "        x <- as.matrix(purrr::map_dfr(lres, 'beta'))                \n",
    "    }\n",
    "})\n",
    "\n",
    "\n",
    "system.time({\n",
    "    for (i in 1:10) {\n",
    "        y <- collapse_vecs(beta_list, length(beta_list))\n",
    "        colnames(y) <- names(lres)        \n",
    "    }\n",
    "})\n",
    "\n",
    "max(abs(x - y))"
   ]
  },
  {
   "cell_type": "markdown",
   "metadata": {},
   "source": [
    "## Comparison"
   ]
  },
  {
   "cell_type": "code",
   "execution_count": 209,
   "metadata": {},
   "outputs": [
    {
     "data": {
      "text/plain": [
       "   user  system elapsed \n",
       "  0.108   0.004   0.112 "
      ]
     },
     "metadata": {},
     "output_type": "display_data"
    }
   ],
   "source": [
    "system.time({\n",
    "    common_el <- purrr::reduce(map(lres, names), intersect) %>% setdiff('status')\n",
    "    res <- map(common_el, function(name) {\n",
    "        if (name == 'covmat') {\n",
    "            purrr::reduce(purrr::map(lres, name), abind::abind, along = 3)\n",
    "        } else {\n",
    "            as.matrix(purrr::map_dfr(lres, name))            \n",
    "        }\n",
    "    })\n",
    "    names(res) <- common_el\n",
    "})\n",
    "\n"
   ]
  },
  {
   "cell_type": "code",
   "execution_count": 210,
   "metadata": {},
   "outputs": [
    {
     "data": {
      "text/plain": [
       "   user  system elapsed \n",
       "  0.025   0.000   0.025 "
      ]
     },
     "metadata": {},
     "output_type": "display_data"
    }
   ],
   "source": [
    "system.time({\n",
    "    common_el <- purrr::reduce(map(lres, names), intersect) %>% setdiff('status')\n",
    "    res0 <- map(common_el, function(name) {\n",
    "        if (name == 'covmat') {\n",
    "            covmat_list <- purrr::map(lres, 'covmat')\n",
    "            res <- collapse_mats(covmat_list, length(covmat_list))\n",
    "            dnames <- dimnames(covmat_list[[1]])\n",
    "            dnames[[3]] <- names(covmat_list)\n",
    "            dimnames(res) <- dnames\n",
    "            return(res)          \n",
    "        } else {\n",
    "            vec_list <- purrr::map(lres, name)\n",
    "            res <- collapse_vecs(vec_list, length(vec_list))\n",
    "            colnames(res) <- names(lres)        \n",
    "            return(res)\n",
    "        }\n",
    "    })\n",
    "    names(res0) <- common_el\n",
    "})\n",
    "\n"
   ]
  },
  {
   "cell_type": "code",
   "execution_count": 211,
   "metadata": {},
   "outputs": [
    {
     "data": {
      "text/plain": [
       "   user  system elapsed \n",
       "  0.009   0.000   0.009 "
      ]
     },
     "metadata": {},
     "output_type": "display_data"
    }
   ],
   "source": [
    "system.time({\n",
    "    res <- list()\n",
    "    res$beta <- purrr::map(lres, 'beta') %>% collapse_vecs(length(lres))\n",
    "    colnames(res$beta) <- names(lres)\n",
    "\n",
    "    res$epsilon <- purrr::map(lres, 'epsilon') %>% collapse_vecs(length(lres))\n",
    "    colnames(res$epsilon) <- names(lres)\n",
    "\n",
    "    res$epsilon_pearson <- purrr::map(lres, 'epsilon_pearson') %>% collapse_vecs(length(lres))\n",
    "    colnames(res$epsilon_pearson) <- names(lres)\n",
    "\n",
    "    res$prior_sd <- purrr::map(lres, 'prior_sd') %>% collapse_vecs(length(lres))\n",
    "    colnames(res$prior_sd) <- names(lres)\n",
    "\n",
    "    covmat_list <- purrr::map(lres, 'covmat')\n",
    "    res$covmat <- collapse_mats(covmat_list, length(covmat_list))\n",
    "    dnames <- dimnames(covmat_list[[1]])\n",
    "    dnames[[3]] <- names(covmat_list)\n",
    "    dimnames(res$covmat) <- dnames    \n",
    "    \n",
    "})\n"
   ]
  },
  {
   "cell_type": "code",
   "execution_count": 207,
   "metadata": {},
   "outputs": [
    {
     "data": {
      "text/html": [
       "<ol>\n",
       "\t<li>0</li>\n",
       "\t<li>0</li>\n",
       "\t<li>0</li>\n",
       "\t<li>0</li>\n",
       "\t<li>0</li>\n",
       "</ol>\n"
      ],
      "text/latex": [
       "\\begin{enumerate}\n",
       "\\item 0\n",
       "\\item 0\n",
       "\\item 0\n",
       "\\item 0\n",
       "\\item 0\n",
       "\\end{enumerate}\n"
      ],
      "text/markdown": [
       "1. 0\n",
       "2. 0\n",
       "3. 0\n",
       "4. 0\n",
       "5. 0\n",
       "\n",
       "\n"
      ],
      "text/plain": [
       "[[1]]\n",
       "[1] 0\n",
       "\n",
       "[[2]]\n",
       "[1] 0\n",
       "\n",
       "[[3]]\n",
       "[1] 0\n",
       "\n",
       "[[4]]\n",
       "[1] 0\n",
       "\n",
       "[[5]]\n",
       "[1] 0\n"
      ]
     },
     "metadata": {},
     "output_type": "display_data"
    }
   ],
   "source": [
    "## Confirm same results \n",
    "map(common_el, function(name) {max(abs(res[[name]] - res0[[name]]))})"
   ]
  },
  {
   "cell_type": "raw",
   "metadata": {},
   "source": [
    "\n",
    "\n",
    "\n",
    "\n",
    "\n",
    "\n",
    "\n",
    "\n",
    "\n",
    "\n",
    "\n",
    "\n",
    "\n",
    "\n",
    "\n",
    "\n",
    "\n",
    "\n",
    "\n",
    "\n",
    "\n",
    "\n",
    "\n",
    "\n",
    "\n",
    "\n",
    "\n",
    "\n"
   ]
  }
 ],
 "metadata": {
  "kernelspec": {
   "display_name": "R",
   "language": "R",
   "name": "ir"
  },
  "language_info": {
   "codemirror_mode": "r",
   "file_extension": ".r",
   "mimetype": "text/x-r-source",
   "name": "R",
   "pygments_lexer": "r",
   "version": "3.6.3"
  },
  "toc-autonumbering": true
 },
 "nbformat": 4,
 "nbformat_minor": 4
}
